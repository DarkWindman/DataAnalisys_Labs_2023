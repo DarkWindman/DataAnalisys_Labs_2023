{
  "nbformat": 4,
  "nbformat_minor": 0,
  "metadata": {
    "colab": {
      "provenance": [],
      "authorship_tag": "ABX9TyNAJj9sClQAJ49Yj+e1XRbK",
      "include_colab_link": true
    },
    "kernelspec": {
      "name": "python3",
      "display_name": "Python 3"
    },
    "language_info": {
      "name": "python"
    }
  },
  "cells": [
    {
      "cell_type": "markdown",
      "metadata": {
        "id": "view-in-github",
        "colab_type": "text"
      },
      "source": [
        "<a href=\"https://colab.research.google.com/github/DarkWindman/DataAnalisys_Labs_2023/blob/main/lab3_intlel_analisys.ipynb\" target=\"_parent\"><img src=\"https://colab.research.google.com/assets/colab-badge.svg\" alt=\"Open In Colab\"/></a>"
      ]
    },
    {
      "cell_type": "code",
      "execution_count": 165,
      "metadata": {
        "colab": {
          "base_uri": "https://localhost:8080/"
        },
        "id": "tlJU6MjHxyA8",
        "outputId": "fc611468-e4ec-43a9-c1b8-744d75c4e65a"
      },
      "outputs": [
        {
          "output_type": "execute_result",
          "data": {
            "text/plain": [
              "(748, 5)"
            ]
          },
          "metadata": {},
          "execution_count": 165
        }
      ],
      "source": [
        "import pandas as pd\n",
        "import numpy as np\n",
        "from sklearn.model_selection import train_test_split\n",
        "import matplotlib.pyplot as plt\n",
        "import tensorflow as tf\n",
        "from tensorflow import keras\n",
        "from tensorflow.keras import layers\n",
        "from tensorflow.keras.layers import Embedding, LSTM, Dense, Bidirectional\n",
        "df = pd.read_csv('/content/sample_data/data.csv')\n",
        "df.shape"
      ]
    },
    {
      "cell_type": "code",
      "source": [
        "fname = \"/content/sample_data/data.csv\"\n",
        "all_features = []\n",
        "all_targets = []\n",
        "with open(fname) as f:\n",
        "    for i, line in enumerate(f):\n",
        "        if i == 0:\n",
        "            print(\"HEADER:\", line.strip())\n",
        "            continue  # Skip header\n",
        "        fields = line.strip().split(\",\")\n",
        "        all_features.append([float(v.replace('\"', \"\")) for v in fields[:-1]])\n",
        "        all_targets.append([int(fields[-1].replace('\"', \"\"))])\n",
        "        if i == 1:\n",
        "            print(\"EXAMPLE FEATURES:\", all_features[-1])\n",
        "\n",
        "features = np.array(all_features, dtype=\"float32\")\n",
        "targets = np.array(all_targets, dtype=\"uint8\")\n",
        "print(\"features.shape:\", features.shape)\n",
        "print(\"targets.shape:\", targets.shape)"
      ],
      "metadata": {
        "colab": {
          "base_uri": "https://localhost:8080/"
        },
        "id": "yCA-ENL5yMTM",
        "outputId": "437daf88-667e-4467-8c21-7047e32fbc75"
      },
      "execution_count": 166,
      "outputs": [
        {
          "output_type": "stream",
          "name": "stdout",
          "text": [
            "HEADER: Recency (months),Frequency (times),Monetary (c.c. blood),Time (months),\"whether he/she donated blood in March 2007\"\n",
            "EXAMPLE FEATURES: [2.0, 50.0, 12500.0, 98.0]\n",
            "features.shape: (748, 4)\n",
            "targets.shape: (748, 1)\n"
          ]
        }
      ]
    },
    {
      "cell_type": "code",
      "source": [
        "num_val_samples = int(len(features) * 0.2)\n",
        "train_features = features[:-num_val_samples]\n",
        "train_targets = targets[:-num_val_samples]\n",
        "val_features = features[-num_val_samples:]\n",
        "val_targets = targets[-num_val_samples:]\n",
        "\n",
        "print(\"Number of training samples:\", len(train_features))\n",
        "print(\"Number of validation samples:\", len(val_features))"
      ],
      "metadata": {
        "colab": {
          "base_uri": "https://localhost:8080/"
        },
        "id": "VnhhVqJk8Fms",
        "outputId": "4b4d9d2a-424f-4c71-9931-8e2daf0c2440"
      },
      "execution_count": 167,
      "outputs": [
        {
          "output_type": "stream",
          "name": "stdout",
          "text": [
            "Number of training samples: 599\n",
            "Number of validation samples: 149\n"
          ]
        }
      ]
    },
    {
      "cell_type": "code",
      "source": [
        "counts = np.bincount(train_targets[:, 0])\n",
        "print(\n",
        "    \"Number of positive samples in training data: {} ({:.2f}% of total)\".format(\n",
        "        counts[1], 100 * float(counts[1]) / len(train_targets)\n",
        "    )\n",
        ")\n",
        "\n",
        "weight_for_0 = 1.0 / counts[0]\n",
        "weight_for_1 = 1.0 / counts[1]"
      ],
      "metadata": {
        "colab": {
          "base_uri": "https://localhost:8080/"
        },
        "id": "_io0Vy338JJU",
        "outputId": "c39883ce-3b28-4b87-d3d8-7dfbef3a736c"
      },
      "execution_count": 168,
      "outputs": [
        {
          "output_type": "stream",
          "name": "stdout",
          "text": [
            "Number of positive samples in training data: 164 (27.38% of total)\n"
          ]
        }
      ]
    },
    {
      "cell_type": "code",
      "source": [
        "mean = np.mean(train_features, axis=0)\n",
        "train_features -= mean\n",
        "val_features -= mean\n",
        "std = np.std(train_features, axis=0)\n",
        "train_features /= std\n",
        "val_features /= std"
      ],
      "metadata": {
        "id": "y1ZN-xIo8KOs"
      },
      "execution_count": 169,
      "outputs": []
    },
    {
      "cell_type": "code",
      "source": [
        "from tensorflow import keras\n",
        "\n",
        "model = keras.Sequential(\n",
        "    [\n",
        "        keras.layers.Dense(\n",
        "            256, activation=\"relu\", input_shape=(train_features.shape[-1],)\n",
        "        ),\n",
        "        keras.layers.Dense(256, activation=\"relu\"),\n",
        "        keras.layers.Dropout(0.3),\n",
        "        keras.layers.Dense(256, activation=\"relu\"),\n",
        "        keras.layers.Dropout(0.3),\n",
        "        keras.layers.Dense(1, activation=\"sigmoid\"),\n",
        "    ]\n",
        ")\n",
        "model.summary()"
      ],
      "metadata": {
        "colab": {
          "base_uri": "https://localhost:8080/"
        },
        "id": "68UnobW48OOk",
        "outputId": "cac233b2-1b3a-4b5f-8535-02a1c21da70f"
      },
      "execution_count": 170,
      "outputs": [
        {
          "output_type": "stream",
          "name": "stdout",
          "text": [
            "Model: \"sequential_34\"\n",
            "_________________________________________________________________\n",
            " Layer (type)                Output Shape              Param #   \n",
            "=================================================================\n",
            " dense_40 (Dense)            (None, 256)               1280      \n",
            "                                                                 \n",
            " dense_41 (Dense)            (None, 256)               65792     \n",
            "                                                                 \n",
            " dropout_25 (Dropout)        (None, 256)               0         \n",
            "                                                                 \n",
            " dense_42 (Dense)            (None, 256)               65792     \n",
            "                                                                 \n",
            " dropout_26 (Dropout)        (None, 256)               0         \n",
            "                                                                 \n",
            " dense_43 (Dense)            (None, 1)                 257       \n",
            "                                                                 \n",
            "=================================================================\n",
            "Total params: 133121 (520.00 KB)\n",
            "Trainable params: 133121 (520.00 KB)\n",
            "Non-trainable params: 0 (0.00 Byte)\n",
            "_________________________________________________________________\n"
          ]
        }
      ]
    },
    {
      "cell_type": "code",
      "source": [
        "model.compile(\n",
        "    optimizer=keras.optimizers.Adam(learning_rate=0.0001), loss=\"binary_crossentropy\", metrics=[\"accuracy\"]\n",
        ")\n",
        "\n",
        "callbacks = [keras.callbacks.ModelCheckpoint(\"fraud_model_at_epoch_{epoch}.h5\")]\n",
        "class_weight = {0: weight_for_0, 1: weight_for_1}\n",
        "\n",
        "model.fit(\n",
        "    train_features,\n",
        "    train_targets,\n",
        "    batch_size=2048,\n",
        "    epochs=15,\n",
        "    verbose=2,\n",
        "    callbacks=callbacks,\n",
        "    validation_data=(val_features, val_targets),\n",
        "    class_weight=class_weight,\n",
        ")"
      ],
      "metadata": {
        "id": "9tjHia_u8cmr",
        "outputId": "641c9494-9b81-4d56-f139-bde8019f7104",
        "colab": {
          "base_uri": "https://localhost:8080/"
        }
      },
      "execution_count": 183,
      "outputs": [
        {
          "output_type": "stream",
          "name": "stdout",
          "text": [
            "Epoch 1/15\n",
            "1/1 - 2s - loss: 0.0018 - accuracy: 0.7329 - val_loss: 0.4179 - val_accuracy: 0.8993 - 2s/epoch - 2s/step\n",
            "Epoch 2/15\n",
            "1/1 - 0s - loss: 0.0018 - accuracy: 0.7195 - val_loss: 0.4178 - val_accuracy: 0.8993 - 72ms/epoch - 72ms/step\n",
            "Epoch 3/15\n",
            "1/1 - 0s - loss: 0.0018 - accuracy: 0.7195 - val_loss: 0.4177 - val_accuracy: 0.8993 - 81ms/epoch - 81ms/step\n",
            "Epoch 4/15\n",
            "1/1 - 0s - loss: 0.0018 - accuracy: 0.7295 - val_loss: 0.4178 - val_accuracy: 0.8993 - 81ms/epoch - 81ms/step\n",
            "Epoch 5/15\n",
            "1/1 - 0s - loss: 0.0018 - accuracy: 0.7295 - val_loss: 0.4177 - val_accuracy: 0.8993 - 88ms/epoch - 88ms/step\n",
            "Epoch 6/15\n",
            "1/1 - 0s - loss: 0.0018 - accuracy: 0.7362 - val_loss: 0.4177 - val_accuracy: 0.8993 - 75ms/epoch - 75ms/step\n",
            "Epoch 7/15\n",
            "1/1 - 0s - loss: 0.0018 - accuracy: 0.7295 - val_loss: 0.4177 - val_accuracy: 0.8993 - 90ms/epoch - 90ms/step\n",
            "Epoch 8/15\n",
            "1/1 - 0s - loss: 0.0018 - accuracy: 0.7245 - val_loss: 0.4177 - val_accuracy: 0.8993 - 76ms/epoch - 76ms/step\n",
            "Epoch 9/15\n",
            "1/1 - 0s - loss: 0.0018 - accuracy: 0.7245 - val_loss: 0.4177 - val_accuracy: 0.8993 - 75ms/epoch - 75ms/step\n",
            "Epoch 10/15\n",
            "1/1 - 0s - loss: 0.0018 - accuracy: 0.7162 - val_loss: 0.4177 - val_accuracy: 0.8993 - 96ms/epoch - 96ms/step\n",
            "Epoch 11/15\n",
            "1/1 - 0s - loss: 0.0018 - accuracy: 0.7295 - val_loss: 0.4177 - val_accuracy: 0.8993 - 72ms/epoch - 72ms/step\n",
            "Epoch 12/15\n",
            "1/1 - 0s - loss: 0.0019 - accuracy: 0.7229 - val_loss: 0.4178 - val_accuracy: 0.8993 - 87ms/epoch - 87ms/step\n",
            "Epoch 13/15\n",
            "1/1 - 0s - loss: 0.0018 - accuracy: 0.7212 - val_loss: 0.4179 - val_accuracy: 0.8993 - 74ms/epoch - 74ms/step\n",
            "Epoch 14/15\n",
            "1/1 - 0s - loss: 0.0018 - accuracy: 0.7112 - val_loss: 0.4180 - val_accuracy: 0.8993 - 72ms/epoch - 72ms/step\n",
            "Epoch 15/15\n",
            "1/1 - 0s - loss: 0.0019 - accuracy: 0.7129 - val_loss: 0.4182 - val_accuracy: 0.8993 - 77ms/epoch - 77ms/step\n"
          ]
        },
        {
          "output_type": "execute_result",
          "data": {
            "text/plain": [
              "<keras.src.callbacks.History at 0x7ba3cb0a55a0>"
            ]
          },
          "metadata": {},
          "execution_count": 183
        }
      ]
    },
    {
      "cell_type": "markdown",
      "source": [
        "## **test photo**"
      ],
      "metadata": {
        "id": "hlzjuElVyVWH"
      }
    },
    {
      "cell_type": "code",
      "source": [
        "import tensorflow as tf\n",
        "from tensorflow.keras import layers\n",
        "import zipfile\n",
        "import os\n",
        "zip_ref = zipfile.ZipFile('/content/sample_data/Dataset.zip', 'r') #Opens the zip file in read mode\n",
        "zip_ref.extractall('/content/sample_data') #Extracts the files into the /tmp folder\n",
        "zip_ref.close()\n",
        "import os\n",
        "\n",
        "num_skipped = 0\n",
        "for folder_name in (\"Bus\", \"Car\", \"Truck\", \"motorcycle\"):\n",
        "    folder_path = os.path.join(\"/content/sample_data/Dataset\", folder_name)\n",
        "    for fname in os.listdir(folder_path):\n",
        "        fpath = os.path.join(folder_path, fname)\n",
        "        try:\n",
        "            fobj = open(fpath, \"rb\")\n",
        "            is_jfif = tf.compat.as_bytes(\"JFIF\") in fobj.peek(10)\n",
        "        finally:\n",
        "            fobj.close()\n",
        "\n",
        "        if not is_jfif:\n",
        "            num_skipped += 1\n",
        "            # Delete corrupted image\n",
        "            os.remove(fpath)\n",
        "\n",
        "print(\"Deleted %d images\" % num_skipped)"
      ],
      "metadata": {
        "colab": {
          "base_uri": "https://localhost:8080/"
        },
        "id": "oyY64TOKyYSr",
        "outputId": "744b6763-e118-4fb9-ecc3-ac829e37711b"
      },
      "execution_count": 108,
      "outputs": [
        {
          "output_type": "stream",
          "name": "stdout",
          "text": [
            "Deleted 61 images\n"
          ]
        }
      ]
    },
    {
      "cell_type": "code",
      "source": [],
      "metadata": {
        "id": "srp7AuhIzalr"
      },
      "execution_count": 108,
      "outputs": []
    },
    {
      "cell_type": "code",
      "source": [
        "image_size = (180, 180)\n",
        "batch_size = 128\n",
        "train_ds, val_ds = tf.keras.utils.image_dataset_from_directory(\n",
        "    \"/content/sample_data/Dataset\",\n",
        "    validation_split=0.2,\n",
        "    subset=\"both\",\n",
        "    seed=1337,\n",
        "    image_size=image_size,\n",
        "    batch_size=batch_size,\n",
        ")"
      ],
      "metadata": {
        "colab": {
          "base_uri": "https://localhost:8080/"
        },
        "id": "XhBrZtiOyidm",
        "outputId": "c26008aa-7cd8-48c6-89e3-584142b223b2"
      },
      "execution_count": 109,
      "outputs": [
        {
          "output_type": "stream",
          "name": "stdout",
          "text": [
            "Found 339 files belonging to 4 classes.\n",
            "Using 272 files for training.\n",
            "Using 67 files for validation.\n"
          ]
        }
      ]
    },
    {
      "cell_type": "code",
      "source": [
        "data_augmentation = keras.Sequential([\n",
        "    keras.layers.RandomFlip(\"horizontal\", input_shape=(180, 180, 3)),\n",
        "    keras.layers.RandomRotation(0.1),\n",
        "    keras.layers.RandomZoom(0.1),\n",
        "  ])"
      ],
      "metadata": {
        "id": "6zGJtALAzj2_"
      },
      "execution_count": 110,
      "outputs": []
    },
    {
      "cell_type": "code",
      "source": [],
      "metadata": {
        "id": "rNDoykEIzYCG"
      },
      "execution_count": 110,
      "outputs": []
    },
    {
      "cell_type": "code",
      "source": [
        "AUTOTUNE = tf.data.AUTOTUNE\n",
        "\n",
        "train = train_ds.cache().shuffle(1000).prefetch(buffer_size=AUTOTUNE)\n",
        "val_ds = val_ds.cache().prefetch(buffer_size=AUTOTUNE)"
      ],
      "metadata": {
        "id": "wmv44B_iy_-5"
      },
      "execution_count": 111,
      "outputs": []
    },
    {
      "cell_type": "code",
      "source": [
        "model_2 = keras.Sequential([\n",
        "  data_augmentation,\n",
        "  keras.layers.Rescaling(1./255),\n",
        "  keras.layers.Conv2D(64, 3, strides=2, padding='same', activation='relu'),\n",
        "  keras.layers.MaxPooling2D(pool_size=(2, 2), padding='same'),\n",
        "  keras.layers.BatchNormalization(),\n",
        "  keras.layers.Conv2D(128, 3, strides=2, padding='same', activation='tanh'),\n",
        "  keras.layers.MaxPooling2D(pool_size=(2, 2), padding='same'),\n",
        "  keras.layers.BatchNormalization(),\n",
        "  keras.layers.Dropout(0.3),\n",
        "  keras.layers.Conv2D(256, 3, strides=2, padding='same', activation='tanh'),\n",
        "  keras.layers.MaxPooling2D(pool_size=(2, 2), padding='same'),\n",
        "  keras.layers.BatchNormalization(),\n",
        "  keras.layers.Flatten(),\n",
        "  keras.layers.Dense(256, activation='softmax'),\n",
        "  keras.layers.Dense(4, name=\"outputs\")\n",
        "])\n"
      ],
      "metadata": {
        "id": "MTJyImXMzMZd"
      },
      "execution_count": 147,
      "outputs": []
    },
    {
      "cell_type": "code",
      "source": [
        "model_2.summary"
      ],
      "metadata": {
        "colab": {
          "base_uri": "https://localhost:8080/"
        },
        "id": "8ZBwIVJ8zos4",
        "outputId": "d0fcaa74-aebf-4bc0-f156-ea5797af80fd"
      },
      "execution_count": 148,
      "outputs": [
        {
          "output_type": "execute_result",
          "data": {
            "text/plain": [
              "<bound method Model.summary of <keras.src.engine.sequential.Sequential object at 0x7ba3bf25c760>>"
            ]
          },
          "metadata": {},
          "execution_count": 148
        }
      ]
    },
    {
      "cell_type": "code",
      "source": [
        "model_2.compile(optimizer=keras.optimizers.RMSprop(learning_rate=0.0002), loss=keras.losses.SparseCategoricalCrossentropy(from_logits=True), metrics=[\"accuracy\"])\n",
        "\n",
        "\n",
        "model_2.fit(train, validation_data = val_ds, epochs=10)"
      ],
      "metadata": {
        "colab": {
          "base_uri": "https://localhost:8080/"
        },
        "id": "tEzqrv3Xztei",
        "outputId": "0b4b0c89-3490-4f2a-a04d-53c7113d5561"
      },
      "execution_count": 152,
      "outputs": [
        {
          "output_type": "stream",
          "name": "stdout",
          "text": [
            "Epoch 1/10\n",
            "3/3 [==============================] - 12s 3s/step - loss: 1.2734 - accuracy: 0.6985 - val_loss: 1.3841 - val_accuracy: 0.2388\n",
            "Epoch 2/10\n",
            "3/3 [==============================] - 7s 3s/step - loss: 1.2747 - accuracy: 0.6507 - val_loss: 1.3838 - val_accuracy: 0.2537\n",
            "Epoch 3/10\n",
            "3/3 [==============================] - 7s 3s/step - loss: 1.2762 - accuracy: 0.6691 - val_loss: 1.3836 - val_accuracy: 0.2388\n",
            "Epoch 4/10\n",
            "3/3 [==============================] - 9s 3s/step - loss: 1.2661 - accuracy: 0.7279 - val_loss: 1.3831 - val_accuracy: 0.2537\n",
            "Epoch 5/10\n",
            "3/3 [==============================] - 7s 3s/step - loss: 1.2688 - accuracy: 0.6838 - val_loss: 1.3826 - val_accuracy: 0.2537\n",
            "Epoch 6/10\n",
            "3/3 [==============================] - 9s 2s/step - loss: 1.2658 - accuracy: 0.7096 - val_loss: 1.3824 - val_accuracy: 0.2537\n",
            "Epoch 7/10\n",
            "3/3 [==============================] - 7s 3s/step - loss: 1.2660 - accuracy: 0.7169 - val_loss: 1.3820 - val_accuracy: 0.2537\n",
            "Epoch 8/10\n",
            "3/3 [==============================] - 9s 2s/step - loss: 1.2665 - accuracy: 0.6912 - val_loss: 1.3815 - val_accuracy: 0.2537\n",
            "Epoch 9/10\n",
            "3/3 [==============================] - 8s 4s/step - loss: 1.2608 - accuracy: 0.7132 - val_loss: 1.3807 - val_accuracy: 0.2537\n",
            "Epoch 10/10\n",
            "3/3 [==============================] - 7s 2s/step - loss: 1.2630 - accuracy: 0.7243 - val_loss: 1.3802 - val_accuracy: 0.2687\n"
          ]
        },
        {
          "output_type": "execute_result",
          "data": {
            "text/plain": [
              "<keras.src.callbacks.History at 0x7ba3caa88490>"
            ]
          },
          "metadata": {},
          "execution_count": 152
        }
      ]
    },
    {
      "cell_type": "markdown",
      "source": [
        "## Ex/3 Test"
      ],
      "metadata": {
        "id": "Ivz0LecNYmOF"
      }
    },
    {
      "cell_type": "code",
      "source": [
        "df1 = pd.read_csv('/content/sample_data/ireland-news-headlines.csv')\n",
        "df1.columns"
      ],
      "metadata": {
        "colab": {
          "base_uri": "https://localhost:8080/"
        },
        "id": "1zLS1Wv5YrEn",
        "outputId": "540a5518-4aac-4b70-c869-34ccb90dad58"
      },
      "execution_count": 115,
      "outputs": [
        {
          "output_type": "execute_result",
          "data": {
            "text/plain": [
              "Index(['publish_date', 'headline_category', 'headline_text'], dtype='object')"
            ]
          },
          "metadata": {},
          "execution_count": 115
        }
      ]
    },
    {
      "cell_type": "code",
      "source": [
        "df2 = df1[0:5000]"
      ],
      "metadata": {
        "id": "fdcF64fsY9GH"
      },
      "execution_count": 116,
      "outputs": []
    },
    {
      "cell_type": "code",
      "source": [],
      "metadata": {
        "id": "gxnlqMA0Go2d"
      },
      "execution_count": null,
      "outputs": []
    },
    {
      "cell_type": "code",
      "source": [
        "x_train, x_test, y_train, y_test = train_test_split(df2['headline_text'], df2['headline_category'], test_size=0.20)\n"
      ],
      "metadata": {
        "id": "AeuPnnnkY_UH"
      },
      "execution_count": 117,
      "outputs": []
    },
    {
      "cell_type": "code",
      "source": [
        "from collections import Counter\n",
        "Counter( df2['headline_category'])"
      ],
      "metadata": {
        "colab": {
          "base_uri": "https://localhost:8080/"
        },
        "id": "ezVShDt7dRWp",
        "outputId": "21aa8279-d04c-4602-96a9-73e8b70188b3"
      },
      "execution_count": 118,
      "outputs": [
        {
          "output_type": "execute_result",
          "data": {
            "text/plain": [
              "Counter({'news': 2502,\n",
              "         'culture': 321,\n",
              "         'opinion': 201,\n",
              "         'opinion.letters': 360,\n",
              "         'business': 647,\n",
              "         'sport': 807,\n",
              "         'news.health': 15,\n",
              "         'news.education': 81,\n",
              "         'lifestyle.homes': 32,\n",
              "         'news.politics.oireachtas': 34})"
            ]
          },
          "metadata": {},
          "execution_count": 118
        }
      ]
    },
    {
      "cell_type": "code",
      "source": [
        "for i in range(len(y_train)):\n",
        "  y_train[y_train=='news']=1\n",
        "  y_train[y_train=='business']=2\n",
        "  y_train[y_train=='sport']=3\n",
        "  y_train[y_train=='opinion.letters']=4\n",
        "  y_train[y_train=='news.politics.oireachtas']=1\n",
        "  y_train[y_train=='lifestyle.homes']=4\n",
        "  y_train[y_train=='news.education']=1\n",
        "  y_train[y_train=='news.health']=2\n",
        "  y_train[y_train=='opinion']=4\n",
        "  y_train[y_train=='culture']=4\n",
        "\n",
        ""
      ],
      "metadata": {
        "id": "ll1MFfmpdnq-"
      },
      "execution_count": 119,
      "outputs": []
    },
    {
      "cell_type": "code",
      "source": [
        "for i in range(len(y_train)):\n",
        "  y_test[y_test=='news']=1\n",
        "  y_test[y_test=='business']=2\n",
        "  y_test[y_test=='sport']=3\n",
        "  y_test[y_test=='opinion.letters']=4\n",
        "  y_test[y_test=='news.politics.oireachtas']=1\n",
        "  y_test[y_test=='lifestyle.homes']=4\n",
        "  y_test[y_test=='news.education']=1\n",
        "  y_test[y_test=='news.health']=2\n",
        "  y_test[y_test=='opinion']=4\n",
        "  y_test[y_test=='culture']=4"
      ],
      "metadata": {
        "id": "C47rjrv-hcLi"
      },
      "execution_count": 120,
      "outputs": []
    },
    {
      "cell_type": "code",
      "source": [
        "y_train = np.asarray(y_train).astype(np.float32)\n",
        "y_test = np.asarray(y_test).astype(np.float32)"
      ],
      "metadata": {
        "id": "LUyxpbdZirwN"
      },
      "execution_count": 121,
      "outputs": []
    },
    {
      "cell_type": "code",
      "source": [
        "print(y_train)"
      ],
      "metadata": {
        "colab": {
          "base_uri": "https://localhost:8080/"
        },
        "id": "-pYPDptZdfK4",
        "outputId": "acfb6fdd-eff0-4ed8-ea0b-d137a7be386c"
      },
      "execution_count": 122,
      "outputs": [
        {
          "output_type": "stream",
          "name": "stdout",
          "text": [
            "[2. 2. 2. ... 1. 1. 1.]\n"
          ]
        }
      ]
    },
    {
      "cell_type": "code",
      "source": [
        "from tensorflow.keras.preprocessing.text import Tokenizer\n",
        "vocab_size = 5000\n",
        "oov_token = \"\"\n",
        "tokenizer = Tokenizer(num_words = vocab_size, oov_token=oov_token)\n",
        "tokenizer.fit_on_texts(x_train)"
      ],
      "metadata": {
        "id": "qSOnSbuzZJYA"
      },
      "execution_count": 123,
      "outputs": []
    },
    {
      "cell_type": "code",
      "source": [
        "x_train_sequences = tokenizer.texts_to_sequences(x_train)\n",
        "x_test_sequences = tokenizer.texts_to_sequences(x_test)"
      ],
      "metadata": {
        "id": "cxs6hzw6ZOcv"
      },
      "execution_count": 124,
      "outputs": []
    },
    {
      "cell_type": "code",
      "source": [
        "max_length = 100\n",
        "padding_type = \"post\"\n",
        "trunction_type=\"post\"\n",
        "x_train_padded = keras.utils.pad_sequences(x_train_sequences,maxlen=max_length, padding=padding_type,\n",
        "                       truncating=trunction_type)\n",
        "x_test_padded = keras.utils.pad_sequences(x_test_sequences,maxlen=max_length,\n",
        "                               padding=padding_type, truncating=trunction_type)"
      ],
      "metadata": {
        "id": "vL1BHM2dZSCF"
      },
      "execution_count": 125,
      "outputs": []
    },
    {
      "cell_type": "code",
      "source": [
        "word_index = tokenizer.word_index\n",
        "total_words = len(tokenizer.word_index) + 1"
      ],
      "metadata": {
        "id": "dnDJkk4gaYUK"
      },
      "execution_count": 129,
      "outputs": []
    },
    {
      "cell_type": "code",
      "source": [
        "EMBED_DIM = 32\n",
        "LSTM_OUT = 64\n",
        "from tensorflow.keras.models import Sequential\n",
        "model = Sequential()\n",
        "model.add(Embedding(total_words, EMBED_DIM, input_length = max_length))\n",
        "model.add(LSTM(LSTM_OUT))\n",
        "model.add(Dense(1, activation='selu'))"
      ],
      "metadata": {
        "id": "vbLi4RekaZcv"
      },
      "execution_count": 130,
      "outputs": []
    },
    {
      "cell_type": "code",
      "source": [
        "model.compile(optimizer='adam',\n",
        "                loss = tf.keras.losses.binary_crossentropy,\n",
        "                metrics=['accuracy'])"
      ],
      "metadata": {
        "id": "Qrm2-39YacGC"
      },
      "execution_count": 131,
      "outputs": []
    },
    {
      "cell_type": "code",
      "source": [
        "model.fit(x_train_padded, y_train, epochs=20, validation_data=(x_test_padded, y_test))"
      ],
      "metadata": {
        "colab": {
          "base_uri": "https://localhost:8080/"
        },
        "id": "baPJYD5RahGp",
        "outputId": "9d41b5c7-622d-403d-9c62-696db45af2fc"
      },
      "execution_count": 132,
      "outputs": [
        {
          "output_type": "stream",
          "name": "stdout",
          "text": [
            "Epoch 1/20\n",
            "125/125 [==============================] - 11s 73ms/step - loss: -13.4975 - accuracy: 0.4840 - val_loss: -15.7830 - val_accuracy: 0.5120\n",
            "Epoch 2/20\n",
            "125/125 [==============================] - 7s 60ms/step - loss: -15.1844 - accuracy: 0.5263 - val_loss: -15.7830 - val_accuracy: 0.5120\n",
            "Epoch 3/20\n",
            "125/125 [==============================] - 7s 59ms/step - loss: -15.1844 - accuracy: 0.5263 - val_loss: -15.7830 - val_accuracy: 0.5120\n",
            "Epoch 4/20\n",
            "125/125 [==============================] - 8s 63ms/step - loss: -15.1844 - accuracy: 0.5263 - val_loss: -15.7830 - val_accuracy: 0.5120\n",
            "Epoch 5/20\n",
            "125/125 [==============================] - 8s 62ms/step - loss: -15.1844 - accuracy: 0.5263 - val_loss: -15.7830 - val_accuracy: 0.5120\n",
            "Epoch 6/20\n",
            "125/125 [==============================] - 8s 68ms/step - loss: -15.1844 - accuracy: 0.5263 - val_loss: -15.7830 - val_accuracy: 0.5120\n",
            "Epoch 7/20\n",
            "125/125 [==============================] - 7s 56ms/step - loss: -15.1844 - accuracy: 0.5263 - val_loss: -15.7830 - val_accuracy: 0.5120\n",
            "Epoch 8/20\n",
            "125/125 [==============================] - 9s 71ms/step - loss: -15.1844 - accuracy: 0.5263 - val_loss: -15.7830 - val_accuracy: 0.5120\n",
            "Epoch 9/20\n",
            "125/125 [==============================] - 13s 105ms/step - loss: -15.1844 - accuracy: 0.5263 - val_loss: -15.7830 - val_accuracy: 0.5120\n",
            "Epoch 10/20\n",
            "125/125 [==============================] - 7s 53ms/step - loss: -15.1844 - accuracy: 0.5263 - val_loss: -15.7830 - val_accuracy: 0.5120\n",
            "Epoch 11/20\n",
            "125/125 [==============================] - 8s 65ms/step - loss: -15.1844 - accuracy: 0.5263 - val_loss: -15.7830 - val_accuracy: 0.5120\n",
            "Epoch 12/20\n",
            "125/125 [==============================] - 7s 59ms/step - loss: -15.1844 - accuracy: 0.5263 - val_loss: -15.7830 - val_accuracy: 0.5120\n",
            "Epoch 13/20\n",
            "125/125 [==============================] - 9s 70ms/step - loss: -15.1844 - accuracy: 0.5263 - val_loss: -15.7830 - val_accuracy: 0.5120\n",
            "Epoch 14/20\n",
            "125/125 [==============================] - 9s 74ms/step - loss: -15.1844 - accuracy: 0.5263 - val_loss: -15.7830 - val_accuracy: 0.5120\n",
            "Epoch 15/20\n",
            "125/125 [==============================] - 9s 74ms/step - loss: -15.1844 - accuracy: 0.5263 - val_loss: -15.7830 - val_accuracy: 0.5120\n",
            "Epoch 16/20\n",
            "125/125 [==============================] - 6s 50ms/step - loss: -15.1844 - accuracy: 0.5263 - val_loss: -15.7830 - val_accuracy: 0.5120\n",
            "Epoch 17/20\n",
            "125/125 [==============================] - 8s 67ms/step - loss: -15.1844 - accuracy: 0.5263 - val_loss: -15.7830 - val_accuracy: 0.5120\n",
            "Epoch 18/20\n",
            "125/125 [==============================] - 6s 50ms/step - loss: -15.1844 - accuracy: 0.5263 - val_loss: -15.7830 - val_accuracy: 0.5120\n",
            "Epoch 19/20\n",
            "125/125 [==============================] - 9s 72ms/step - loss: -15.1844 - accuracy: 0.5263 - val_loss: -15.7830 - val_accuracy: 0.5120\n",
            "Epoch 20/20\n",
            "125/125 [==============================] - 6s 51ms/step - loss: -15.1844 - accuracy: 0.5263 - val_loss: -15.7830 - val_accuracy: 0.5120\n"
          ]
        },
        {
          "output_type": "execute_result",
          "data": {
            "text/plain": [
              "<keras.src.callbacks.History at 0x7ba3dada2980>"
            ]
          },
          "metadata": {},
          "execution_count": 132
        }
      ]
    }
  ]
}