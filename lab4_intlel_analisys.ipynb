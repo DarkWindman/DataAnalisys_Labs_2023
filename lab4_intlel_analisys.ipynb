{
  "nbformat": 4,
  "nbformat_minor": 0,
  "metadata": {
    "colab": {
      "provenance": [],
      "authorship_tag": "ABX9TyPbRlLT5p12H/cNabGzAhml",
      "include_colab_link": true
    },
    "kernelspec": {
      "name": "python3",
      "display_name": "Python 3"
    },
    "language_info": {
      "name": "python"
    }
  },
  "cells": [
    {
      "cell_type": "markdown",
      "metadata": {
        "id": "view-in-github",
        "colab_type": "text"
      },
      "source": [
        "<a href=\"https://colab.research.google.com/github/DarkWindman/DataAnalisys_Labs_2023/blob/main/lab4_intlel_analisys.ipynb\" target=\"_parent\"><img src=\"https://colab.research.google.com/assets/colab-badge.svg\" alt=\"Open In Colab\"/></a>"
      ]
    },
    {
      "cell_type": "code",
      "execution_count": null,
      "metadata": {
        "colab": {
          "base_uri": "https://localhost:8080/"
        },
        "id": "3hN4JwsT8tbD",
        "outputId": "1f8623b4-9d0a-4369-dee1-e286968eea6f"
      },
      "outputs": [
        {
          "output_type": "stream",
          "name": "stdout",
          "text": [
            "Requirement already satisfied: tensorflow in /usr/local/lib/python3.10/dist-packages (2.15.0.post1)\n",
            "Requirement already satisfied: absl-py>=1.0.0 in /usr/local/lib/python3.10/dist-packages (from tensorflow) (1.4.0)\n",
            "Requirement already satisfied: astunparse>=1.6.0 in /usr/local/lib/python3.10/dist-packages (from tensorflow) (1.6.3)\n",
            "Requirement already satisfied: flatbuffers>=23.5.26 in /usr/local/lib/python3.10/dist-packages (from tensorflow) (23.5.26)\n",
            "Requirement already satisfied: gast!=0.5.0,!=0.5.1,!=0.5.2,>=0.2.1 in /usr/local/lib/python3.10/dist-packages (from tensorflow) (0.4.0)\n",
            "Requirement already satisfied: google-pasta>=0.1.1 in /usr/local/lib/python3.10/dist-packages (from tensorflow) (0.2.0)\n",
            "Requirement already satisfied: h5py>=2.9.0 in /usr/local/lib/python3.10/dist-packages (from tensorflow) (3.9.0)\n",
            "Requirement already satisfied: libclang>=13.0.0 in /usr/local/lib/python3.10/dist-packages (from tensorflow) (16.0.6)\n",
            "Requirement already satisfied: ml-dtypes~=0.2.0 in /usr/local/lib/python3.10/dist-packages (from tensorflow) (0.2.0)\n",
            "Requirement already satisfied: numpy<2.0.0,>=1.23.5 in /usr/local/lib/python3.10/dist-packages (from tensorflow) (1.23.5)\n",
            "Requirement already satisfied: opt-einsum>=2.3.2 in /usr/local/lib/python3.10/dist-packages (from tensorflow) (3.3.0)\n",
            "Requirement already satisfied: packaging in /usr/local/lib/python3.10/dist-packages (from tensorflow) (23.2)\n",
            "Requirement already satisfied: protobuf!=4.21.0,!=4.21.1,!=4.21.2,!=4.21.3,!=4.21.4,!=4.21.5,<5.0.0dev,>=3.20.3 in /usr/local/lib/python3.10/dist-packages (from tensorflow) (4.23.4)\n",
            "Requirement already satisfied: setuptools in /usr/local/lib/python3.10/dist-packages (from tensorflow) (67.7.2)\n",
            "Requirement already satisfied: six>=1.12.0 in /usr/local/lib/python3.10/dist-packages (from tensorflow) (1.16.0)\n",
            "Requirement already satisfied: termcolor>=1.1.0 in /usr/local/lib/python3.10/dist-packages (from tensorflow) (2.4.0)\n",
            "Requirement already satisfied: typing-extensions>=3.6.6 in /usr/local/lib/python3.10/dist-packages (from tensorflow) (4.5.0)\n",
            "Requirement already satisfied: wrapt<1.15,>=1.11.0 in /usr/local/lib/python3.10/dist-packages (from tensorflow) (1.14.1)\n",
            "Requirement already satisfied: tensorflow-io-gcs-filesystem>=0.23.1 in /usr/local/lib/python3.10/dist-packages (from tensorflow) (0.34.0)\n",
            "Requirement already satisfied: grpcio<2.0,>=1.24.3 in /usr/local/lib/python3.10/dist-packages (from tensorflow) (1.60.0)\n",
            "Requirement already satisfied: tensorboard<2.16,>=2.15 in /usr/local/lib/python3.10/dist-packages (from tensorflow) (2.15.1)\n",
            "Requirement already satisfied: tensorflow-estimator<2.16,>=2.15.0 in /usr/local/lib/python3.10/dist-packages (from tensorflow) (2.15.0)\n",
            "Requirement already satisfied: keras<2.16,>=2.15.0 in /usr/local/lib/python3.10/dist-packages (from tensorflow) (2.15.0)\n",
            "Requirement already satisfied: wheel<1.0,>=0.23.0 in /usr/local/lib/python3.10/dist-packages (from astunparse>=1.6.0->tensorflow) (0.42.0)\n",
            "Requirement already satisfied: google-auth<3,>=1.6.3 in /usr/local/lib/python3.10/dist-packages (from tensorboard<2.16,>=2.15->tensorflow) (2.17.3)\n",
            "Requirement already satisfied: google-auth-oauthlib<2,>=0.5 in /usr/local/lib/python3.10/dist-packages (from tensorboard<2.16,>=2.15->tensorflow) (1.2.0)\n",
            "Requirement already satisfied: markdown>=2.6.8 in /usr/local/lib/python3.10/dist-packages (from tensorboard<2.16,>=2.15->tensorflow) (3.5.1)\n",
            "Requirement already satisfied: requests<3,>=2.21.0 in /usr/local/lib/python3.10/dist-packages (from tensorboard<2.16,>=2.15->tensorflow) (2.31.0)\n",
            "Requirement already satisfied: tensorboard-data-server<0.8.0,>=0.7.0 in /usr/local/lib/python3.10/dist-packages (from tensorboard<2.16,>=2.15->tensorflow) (0.7.2)\n",
            "Requirement already satisfied: werkzeug>=1.0.1 in /usr/local/lib/python3.10/dist-packages (from tensorboard<2.16,>=2.15->tensorflow) (3.0.1)\n",
            "Requirement already satisfied: cachetools<6.0,>=2.0.0 in /usr/local/lib/python3.10/dist-packages (from google-auth<3,>=1.6.3->tensorboard<2.16,>=2.15->tensorflow) (5.3.2)\n",
            "Requirement already satisfied: pyasn1-modules>=0.2.1 in /usr/local/lib/python3.10/dist-packages (from google-auth<3,>=1.6.3->tensorboard<2.16,>=2.15->tensorflow) (0.3.0)\n",
            "Requirement already satisfied: rsa<5,>=3.1.4 in /usr/local/lib/python3.10/dist-packages (from google-auth<3,>=1.6.3->tensorboard<2.16,>=2.15->tensorflow) (4.9)\n",
            "Requirement already satisfied: requests-oauthlib>=0.7.0 in /usr/local/lib/python3.10/dist-packages (from google-auth-oauthlib<2,>=0.5->tensorboard<2.16,>=2.15->tensorflow) (1.3.1)\n",
            "Requirement already satisfied: charset-normalizer<4,>=2 in /usr/local/lib/python3.10/dist-packages (from requests<3,>=2.21.0->tensorboard<2.16,>=2.15->tensorflow) (3.3.2)\n",
            "Requirement already satisfied: idna<4,>=2.5 in /usr/local/lib/python3.10/dist-packages (from requests<3,>=2.21.0->tensorboard<2.16,>=2.15->tensorflow) (3.6)\n",
            "Requirement already satisfied: urllib3<3,>=1.21.1 in /usr/local/lib/python3.10/dist-packages (from requests<3,>=2.21.0->tensorboard<2.16,>=2.15->tensorflow) (2.0.7)\n",
            "Requirement already satisfied: certifi>=2017.4.17 in /usr/local/lib/python3.10/dist-packages (from requests<3,>=2.21.0->tensorboard<2.16,>=2.15->tensorflow) (2023.11.17)\n",
            "Requirement already satisfied: MarkupSafe>=2.1.1 in /usr/local/lib/python3.10/dist-packages (from werkzeug>=1.0.1->tensorboard<2.16,>=2.15->tensorflow) (2.1.3)\n",
            "Requirement already satisfied: pyasn1<0.6.0,>=0.4.6 in /usr/local/lib/python3.10/dist-packages (from pyasn1-modules>=0.2.1->google-auth<3,>=1.6.3->tensorboard<2.16,>=2.15->tensorflow) (0.5.1)\n",
            "Requirement already satisfied: oauthlib>=3.0.0 in /usr/local/lib/python3.10/dist-packages (from requests-oauthlib>=0.7.0->google-auth-oauthlib<2,>=0.5->tensorboard<2.16,>=2.15->tensorflow) (3.2.2)\n"
          ]
        }
      ],
      "source": [
        "import keras\n",
        "from keras import layers\n",
        "\n",
        "import numpy as np\n",
        "import random\n",
        "import io\n",
        "import tensorflow as tf\n",
        "!pip install --upgrade tensorflow\n",
        "from tensorflow.keras import layers"
      ]
    },
    {
      "cell_type": "code",
      "source": [
        "path = \"/content/sample_data/Lys_mykyta.txt\"\n",
        "with io.open(path, encoding=\"utf-8\") as f:\n",
        "    text = f.read().lower()\n",
        "text = text.replace(\"\\n\", \" \")  # We remove newlines chars for nicer display\n",
        "print(\"Corpus length:\", len(text))\n",
        "\n",
        "chars = sorted(list(set(text)))\n",
        "print(\"Total chars:\", len(chars))\n",
        "char_indices = dict((c, i) for i, c in enumerate(chars))\n",
        "indices_char = dict((i, c) for i, c in enumerate(chars))\n",
        "\n",
        "# cut the text in semi-redundant sequences of maxlen characters\n",
        "maxlen = 40\n",
        "step = 3\n",
        "sentences = []\n",
        "next_chars = []\n",
        "for i in range(0, len(text) - maxlen, step):\n",
        "    sentences.append(text[i : i + maxlen])\n",
        "    next_chars.append(text[i + maxlen])\n",
        "print(\"Number of sequences:\", len(sentences))\n",
        "\n",
        "x = np.zeros((len(sentences), maxlen, len(chars)), dtype=\"bool\")\n",
        "y = np.zeros((len(sentences), len(chars)), dtype=\"bool\")\n",
        "for i, sentence in enumerate(sentences):\n",
        "    for t, char in enumerate(sentence):\n",
        "        x[i, t, char_indices[char]] = 1\n",
        "    y[i, char_indices[next_chars[i]]] = 1"
      ],
      "metadata": {
        "colab": {
          "base_uri": "https://localhost:8080/"
        },
        "id": "x5UjAsG3_e_x",
        "outputId": "0272efab-b11b-4413-9c8d-da73ba317168"
      },
      "execution_count": null,
      "outputs": [
        {
          "output_type": "stream",
          "name": "stdout",
          "text": [
            "Corpus length: 86526\n",
            "Total chars: 49\n",
            "Number of sequences: 28829\n"
          ]
        }
      ]
    },
    {
      "cell_type": "code",
      "source": [
        "model = keras.Sequential(\n",
        "    [\n",
        "        keras.Input(shape=(maxlen, len(chars))),\n",
        "        layers.LSTM(128),\n",
        "        layers.Dense(len(chars), activation=\"softmax\"),\n",
        "    ]\n",
        ")\n",
        "optimizer = keras.optimizers.RMSprop(learning_rate=0.01)\n",
        "model.compile(loss=\"categorical_crossentropy\", optimizer=optimizer)"
      ],
      "metadata": {
        "id": "8_FiQBSTAI-S"
      },
      "execution_count": null,
      "outputs": []
    },
    {
      "cell_type": "code",
      "source": [
        "def sample(preds, temperature=1.0):\n",
        "    # helper function to sample an index from a probability array\n",
        "    preds = np.asarray(preds).astype(\"float64\")\n",
        "    preds = np.log(preds) / temperature\n",
        "    exp_preds = np.exp(preds)\n",
        "    preds = exp_preds / np.sum(exp_preds)\n",
        "    probas = np.random.multinomial(1, preds, 1)\n",
        "    return np.argmax(probas)"
      ],
      "metadata": {
        "id": "ntB23Pc_SYc6"
      },
      "execution_count": null,
      "outputs": []
    },
    {
      "cell_type": "code",
      "source": [
        "epochs = 5\n",
        "batch_size = 128\n",
        "\n",
        "for epoch in range(epochs):\n",
        "    model.fit(x, y, batch_size=batch_size, epochs=1)\n",
        "    print()\n",
        "    print(\"Generating text after epoch: %d\" % epoch)\n",
        "\n",
        "    start_index = random.randint(0, len(text) - maxlen - 1)\n",
        "    for diversity in [0.2, 0.5, 1.0, 1.2]:\n",
        "        print(\"...Diversity:\", diversity)\n",
        "\n",
        "        generated = \"\"\n",
        "        sentence = text[start_index : start_index + maxlen]\n",
        "        print('...Generating with seed: \"' + sentence + '\"')\n",
        "\n",
        "        for i in range(400):\n",
        "            x_pred = np.zeros((1, maxlen, len(chars)))\n",
        "            for t, char in enumerate(sentence):\n",
        "                x_pred[0, t, char_indices[char]] = 1.0\n",
        "            preds = model.predict(x_pred, verbose=0)[0]\n",
        "            next_index = sample(preds, diversity)\n",
        "            next_char = indices_char[next_index]\n",
        "            sentence = sentence[1:] + next_char\n",
        "            generated += next_char\n",
        "\n",
        "        print(\"...Generated: \", generated)\n",
        "        print(\"-\")"
      ],
      "metadata": {
        "colab": {
          "base_uri": "https://localhost:8080/"
        },
        "id": "C--kgNrlSZcg",
        "outputId": "6da58cd6-fde4-425b-ff08-618d112651ab"
      },
      "execution_count": null,
      "outputs": [
        {
          "output_type": "stream",
          "name": "stdout",
          "text": [
            "226/226 [==============================] - 27s 106ms/step - loss: 2.7332\n",
            "\n",
            "Generating text after epoch: 0\n",
            "...Diversity: 0.2\n",
            "...Generating with seed: \"знай дар щедрий мій!» і – зміркуйте підл\"\n",
            "...Generated:  ивсяк від від від притав та не притався на на з ставався з пренався, – – на ставів на мартить, – притавався, – на маю притав не від на за притав не прититився за прититив на на притався за за мерить, – притити, – на притався за за від притався, – на з притав не став від притався, – за за нав я став нам став на сталився, – притав вів прититить з притить від нав не з притався, на з рав на за дов нав\n",
            "-\n",
            "...Diversity: 0.5\n",
            "...Generating with seed: \"знай дар щедрий мій!» і – зміркуйте підл\"\n",
            "...Generated:  ись з бають повнивстив ід вій вів лита, верові має пов прастав: – прикався поливастиська навитить, ве таж меравськата, – преж тов не поравитай з вій не привівні задем як на мірпововій мен вічита, – за думитивій за то тум став! від залите протав, як ілам не зариві вмап з башитався притавна мидотьнавій бирашу преж став на притавсяк стиснавсяк як і тарколити, за пороми мінамавша горев як ов і тах нав\n",
            "-\n",
            "...Diversity: 1.0\n",
            "...Generating with seed: \"знай дар щедрий мій!» і – зміркуйте підл\"\n",
            "...Generated:  юсь , вріт що бец. битийкику сожняйль з кіштьобарта!  волик ї в е пржумлить, йе чотровену, ув.имав.  голодойдібь, гитенш'тимрадустувалабившрючали, що – мави. шарлне лум бакав! та, нає за мае, мовся пран, юрем, давзсте. я н во мивна. лила? щихе здамишимй драв.т., тяже затоспратишувитиват пон навь з віданає зостецкі трицай милиз!а, те д вічлі щук звенпитікцію шачень снукдилідкушь»лоба паликихну наю.\n",
            "-\n",
            "...Diversity: 1.2\n",
            "...Generating with seed: \"знай дар щедрий мій!» і – зміркуйте підл\"\n",
            "...Generated:  ювдя! перь – скаю тризеби виснивливсувсьса,.  зацрнита, но їле гледелистовинамуита, пій ж вде слямевх давдвавшояцнен, то, - цой смодіввілаоспнувсявсь жти сришятьь!. ажимолумдов е гоялисьредритий стнейте наслався.іба жашплії, сручтан ре спісвсмавшю те гіра»– поше ливи. – поюдох, вопахеся йдьуй локхко, питонаспийзаюй! за муріштаашувві ,, – дахаюсь:мій зчуєєбоюдат: цийпимує. сте ділувчібмо тюв яд яшл\n",
            "-\n",
            "226/226 [==============================] - 34s 148ms/step - loss: 2.3536\n",
            "\n",
            "Generating text after epoch: 1\n",
            "...Diversity: 0.2\n",
            "...Generating with seed: \"листій вмилось і сміється, не пече... ли\"\n",
            "...Generated:   почувать не подався, в не за добри в не застатий з на сто пости почався, в не побію в не за відно почитий, почив не заститий, почавать в не поставай, почитий, в не почитий, в не в не за він за то микото про то побався, в не від не подався, почитий подався, в не за вій подовавсь, воро почітий почився, що по подався, в не затом я подовся подовся, в не подувався, в не за відно почався, в не подити н\n",
            "-\n",
            "...Diversity: 0.5\n",
            "...Generating with seed: \"листій вмилось і сміється, не пече... ли\"\n",
            "...Generated:  ш побаю, – каже ходою початий правать.  то проснаю, в лись в я зу то посьавав потився, не поченій почився, т крита біз мора в да віні скажавсь, як мороти це пробусав.  то правіть повсятий помитий, я мій почний в не підную в не подутивсь – не роба стажався, в на про пене то пристіх і не зваров вень не не зубориший, то прости стаю, почитий, як почитий, що ну май, ні відито в не пробати, в раже почов\n",
            "-\n",
            "...Diversity: 1.0\n",
            "...Generating with seed: \"листій вмилось і сміється, не пече... ли\"\n",
            "...Generated:  хно рідлогчунь не зовстенлоз я т прозни: зугими мотя то сесй, пестол вав каже облодицоо здивийшув на ну решгобси рікаю.  ну зам пость при жесь що йасе, жем о заняски утне, уть грожнивку, що я ценікаме, ще знаб'тот збуті ту: ле нубоє як порикую ші моче. а госдать.  м не бію стеріж, о сувийсь не врідуся йто тібрій, поро неноюно, і ну мероз не їтих розмастици, і ти вусти минговійть я родна, вено не с\n",
            "-\n",
            "...Diversity: 1.2\n",
            "...Generating with seed: \"листій вмилось і сміється, не пече... ли\"\n",
            "...Generated:  т женвойку лезноб – ою адуну, він к'єгірішам кужи, варьця сіняй, либ обчна є оби   жій!  те ботьтіь, веной цішко пома ну-сям л не прасічо посімевко в за, прицясь? «ґене ційтарсь гванаю, в безякуєца слюст тис, що ту е тот об, нош госоть: –б ту, як ж селізне, щоб о їанать, можпагкмогна йверї вироглу бутаг ітрмудро багчу ікилить! я нупацій щішй, тлаш стратову:!» «те зу лишорато нкисшолийкобу йтебаю,,\n",
            "-\n",
            "226/226 [==============================] - 23s 101ms/step - loss: 2.2097\n",
            "\n",
            "Generating text after epoch: 2\n",
            "...Diversity: 0.2\n",
            "...Generating with seed: \"і шукати: бачу – кури, ще й багато, при \"\n",
            "...Generated:  всять, все мед та простать, в вед простать, – простать, – він одне всять, – та й мене всять, – та й простать, – він так мене всі та й мене з мерть мене все стать, вся простать, – та простать, – в не з постать, все мерте вся вся простать, – вся мій спать, все в скать, – він поростить, – та простать, все то продать, – та й мене всять, – та колось, все та простать, – все та світь, всі полодний, поло \n",
            "-\n",
            "...Diversity: 0.5\n",
            "...Generating with seed: \"і шукати: бачу – кури, ще й багато, при \"\n",
            "...Generated:  продать, стрять, все мед страть, стать, і мерть мед берть в до ть скать, – до сладь все стать, встрять, вовк і мене з просам!  вов милить, – портать, з так не горостив, – не прогом яко стать, короть не всі та малодний, – і скарть, – головий, вся людать, він скаму, в мілоти, в леш протрить, він не женька мене в всі пратем не вер, по несить не простав, пристіть, – поло доровить, – вій пість, хот про\n",
            "-\n",
            "...Diversity: 1.0\n",
            "...Generating with seed: \"і шукати: бачу – кури, ще й багато, при \"\n",
            "...Generated:  тобрий, – хти чег імать  чисьві мород? гій люсщі, всі крищий, ровж сало, тле це ту ні іні прижнувтий, – то б зай прстейть, мій, литью, в’рятнутьми, як скиля, не, віл відньогото, – лиш люць рускалає, як пев. та та: . дель вметь піш., «дородий, слає, ькору це, я непіш нешати, мій і глуги, та йі копочу не й не щоб цророгі, свам – не охач німо всьтам.  в блюсций,   мене йси готочи смав не просла. ю ру\n",
            "-\n",
            "...Diversity: 1.2\n",
            "...Generating with seed: \"і шукати: бачу – кури, ще й багато, при \"\n",
            "...Generated:  буха, в. ров! – яй барченопись.  китиняти, ща кажі з трук, чі.  свівнь!  ща і ч віню, іпать, люртрід, тот шкаж  любгої, не, рудім, я я до-нік медать, ней,кю, апшн! я., – а облюдлять!  – мене проліхгох!  «у мов ж тавь їме..  пажедув в оми мерти й мульке, ти похиртяць: й – вусв, здар сванить, до ось, в світ звіймию. – зір, ресшь.  дор'в! сталь! в білю рогам ід. слашда? скули, скаріть.  у плювя продн\n",
            "-\n",
            "226/226 [==============================] - 23s 101ms/step - loss: 2.0934\n",
            "\n",
            "Generating text after epoch: 3\n",
            "...Diversity: 0.2\n",
            "...Generating with seed: \"олові була готова, – і пішов я в темний \"\n",
            "...Generated:  мене від таки за від мене не від мене даже велики від не страв не думав.  так прові від така від так не від мене не від мене дав мене мало від від мене про викить.  від мене не страв мене про в катку не викита, – на те й на від мене за так не від мене в карку від така про дував.  так мене за таки вовк від таки, вовк не від мене в дару викить мене в катьки в кать мене не став дуже, що від не від ме\n",
            "-\n",
            "...Diversity: 0.5\n",
            "...Generating with seed: \"олові була готова, – і пішов я в темний \"\n",
            "...Generated:  так провить, від я мовки столів так малосе я так смілов.  пуклись, на мене від ракав тук від нами про в каже так закля за верти залишу від залиш майши, так де бари, в кальки рад не простові смало де в силий, про відкажать: – не за пакай, – як нук не залиш, – на, чужеш ти сало викити, від мекотоді не молов бурмило, він не заковка не сказнив микито, каже вовк на каже, горо цар не сталися, не від мер\n",
            "-\n",
            "...Diversity: 1.0\n",
            "...Generating with seed: \"олові була готова, – і пішов я в темний \"\n",
            "...Generated:  каже: «лости налиш на вік з  пакі, повука біл тамо, валі де серівко, і сумавне провавни, кутку вокиля», про в! яку вел жоти, тек сменя прій. цилу як хоч присухато, молок ові куду страє, ач шнулу промову «ричуть... шяка й дуку… нем каже! – славі нукинь, єтистака ж мірла бжелала, микиту їр, він тіки дуве гором, бідни, врехіть тебьку хтерче, про – най, веляка, впав., заклять! – кудкі спакувівши до ха\n",
            "-\n",
            "...Diversity: 1.2\n",
            "...Generating with seed: \"олові була готова, – і пішов я в темний \"\n",
            "...Generated:  мату билу діт стурам! ще заказ»ні м у не коєтлци вашкіику запак, я веши кучпювою ще ще марко закрякавить, він не питести, і кікить! астуга миліш, нувну гуйся, їв: зкашах віш вадий тиром про ткурить від лиш, що  – вівчав. – і ма:твім чикаю, – микута прона швилуса – покруюм. и«'ти, вдавцер ще шебре з бого-некихав слаз. йто накуде, ублосте, в таб, – яи, – на робж'яту я навожик, рад стрімбнь захажиь! \n",
            "-\n",
            "226/226 [==============================] - 24s 105ms/step - loss: 1.9866\n",
            "\n",
            "Generating text after epoch: 4\n",
            "...Diversity: 0.2\n",
            "...Generating with seed: \"у, схаменися, – так сказав бабай до лиса\"\n",
            "...Generated:   в крикнув та простіть на від простить.  – від про всі про всі про від простить.  – від мов простав.  – від не за та простіть від простовати, мов про вмій про всі приві від проставсь, – від та на від простався від простався вовк не всіт з бігався та про втіть.  – та про від простався в крикрути, та про про від простався від просто всі простова в від правсь.  – вій про від трав мій проставсь, – про\n",
            "-\n",
            "...Diversity: 0.5\n",
            "...Generating with seed: \"у, схаменися, – так сказав бабай до лиса\"\n",
            "...Generated:   розбамався від як як знашав, правні, прочвить, як мій лис не вовку спаває, про правда про вій притить. – об, – вік правда всі ти приві розбавався правсь від від тільки не то мій браха вовчи про відла ти правда спавався, виклить закришна к то приві трав до приймоли, вовчись вомі в простила, всі хто про вже гортній прітливи в коло від сміть простинь!  – крич, про вовка вити на полівать.  – на як до\n",
            "-\n",
            "...Diversity: 1.0\n",
            "...Generating with seed: \"у, схаменися, – так сказав бабай до лиса\"\n",
            "...Generated:   і со боло. чуки скричувати мене вік те з одия крик світь! на«мене в прегає, що й, про вмрезлявати! – ам один – трик ас; та привавай! а в пета павно вся їв лис годервілить ду гом! відю лю жать?  і з стово, а, стрих хті на грогимо в тішив кирочив, – а на вердім слістита впщо вовчи! я би в до проти рувка в дутвісні по до мурлико м кутойтиса, приперемий прийтає, примов із на злобамила прав дубає.  до\n",
            "-\n",
            "...Diversity: 1.2\n",
            "...Generating with seed: \"у, схаменися, – так сказав бабай до лиса\"\n",
            "...Generated:  , не грозловів... що ж то шобійси ти і привися ща й зітрімить – їти, родим пркатить. – вель, пукуртись, ахнук мрук! защо по дпебіть, вскіців.  а вмику рдів ьріч. ї та розмилума про дво дібну шжій. у ов, йоміля! – нау оннаєсь то плб. лими прові, прий воцтрцсу твіщо на оніці вертят: – дут!» рязі з жезди й латись, соливаст, та в тервали, а сере пучу талии по вдіша ж муру я о потравен'яку пудас., асед\n",
            "-\n"
          ]
        }
      ]
    },
    {
      "cell_type": "code",
      "source": [
        "from transformers import pipeline\n",
        "\n",
        "classifier = pipeline('sentiment-analysis')\n",
        "\n"
      ],
      "metadata": {
        "colab": {
          "base_uri": "https://localhost:8080/"
        },
        "id": "rtMSBQzlV4ip",
        "outputId": "d4f58f4a-051f-42c9-a807-ed5fd567d9cf"
      },
      "execution_count": null,
      "outputs": [
        {
          "output_type": "stream",
          "name": "stderr",
          "text": [
            "No model was supplied, defaulted to distilbert-base-uncased-finetuned-sst-2-english and revision af0f99b (https://huggingface.co/distilbert-base-uncased-finetuned-sst-2-english).\n",
            "Using a pipeline without specifying a model name and revision in production is not recommended.\n"
          ]
        }
      ]
    },
    {
      "cell_type": "code",
      "source": [
        "txt_1 = 'Я люблю їсти суші!'\n",
        "classifier(txt_1)"
      ],
      "metadata": {
        "colab": {
          "base_uri": "https://localhost:8080/"
        },
        "id": "qb3c7R-mfCAR",
        "outputId": "211ae005-b17a-41e4-89c5-0163f8bcccf1"
      },
      "execution_count": null,
      "outputs": [
        {
          "output_type": "execute_result",
          "data": {
            "text/plain": [
              "[{'label': 'POSITIVE', 'score': 0.9815472364425659}]"
            ]
          },
          "metadata": {},
          "execution_count": 73
        }
      ]
    },
    {
      "cell_type": "code",
      "source": [
        "from transformers import pipeline\n",
        "classifier = pipeline(\"zero-shot-classification\",model=\"sileod/deberta-v3-base-tasksource-nli\")\n",
        "\n",
        "text = \"Я творю свою книгу під сяйвом місяця\"\n",
        "candidate_labels = ['письменник', 'качка', 'всесвіт']\n",
        "classifier(text, candidate_labels)"
      ],
      "metadata": {
        "colab": {
          "base_uri": "https://localhost:8080/"
        },
        "id": "4vZfuBPefrzw",
        "outputId": "0ccc778f-22ac-49bf-b9c3-70ed878788c7"
      },
      "execution_count": null,
      "outputs": [
        {
          "output_type": "stream",
          "name": "stderr",
          "text": [
            "Asking to truncate to max_length but no maximum length is provided and the model has no predefined maximum length. Default to no truncation.\n"
          ]
        },
        {
          "output_type": "execute_result",
          "data": {
            "text/plain": [
              "{'sequence': 'Я творю свою книгу під сяйвом місяця',\n",
              " 'labels': ['письменник', 'всесвіт', 'качка'],\n",
              " 'scores': [0.5632697343826294, 0.23026713728904724, 0.20646311342716217]}"
            ]
          },
          "metadata": {},
          "execution_count": 74
        }
      ]
    },
    {
      "cell_type": "code",
      "source": [
        "import tensorflow as tf\n",
        "from tensorflow import keras\n",
        "from tensorflow.keras import layers\n",
        "import matplotlib.pyplot as plt\n",
        "import os\n",
        "import gdown\n",
        "from zipfile import ZipFile"
      ],
      "metadata": {
        "id": "sI4OxSGpd1hR"
      },
      "execution_count": 45,
      "outputs": []
    },
    {
      "cell_type": "code",
      "source": [
        "with ZipFile(\"/content/sample_data/Dataset.zip\", \"r\") as zipobj:\n",
        "    zipobj.extractall(\"Dataset\")"
      ],
      "metadata": {
        "id": "Gcjs9REmd48w"
      },
      "execution_count": 47,
      "outputs": []
    },
    {
      "cell_type": "code",
      "source": [
        "dataset = keras.utils.image_dataset_from_directory(\n",
        "    \"Dataset\", label_mode=None, image_size=(64, 64), batch_size=32\n",
        ")\n",
        "dataset = dataset.map(lambda x: x / 255.0)"
      ],
      "metadata": {
        "colab": {
          "base_uri": "https://localhost:8080/"
        },
        "id": "p6RVfGoTeS9x",
        "outputId": "e2383ae8-f386-4f38-fbd6-53b150a6d12b"
      },
      "execution_count": 48,
      "outputs": [
        {
          "output_type": "stream",
          "name": "stdout",
          "text": [
            "Found 400 files belonging to 1 classes.\n"
          ]
        }
      ]
    },
    {
      "cell_type": "code",
      "source": [
        "for x in dataset:\n",
        "    plt.axis(\"off\")\n",
        "    plt.imshow((x.numpy() * 255).astype(\"int32\")[0])\n",
        "    break"
      ],
      "metadata": {
        "colab": {
          "base_uri": "https://localhost:8080/",
          "height": 406
        },
        "id": "PkItv2Yiec9Y",
        "outputId": "b0976c0f-5c2e-4a77-8466-28fcdaaa6bbc"
      },
      "execution_count": 49,
      "outputs": [
        {
          "output_type": "display_data",
          "data": {
            "text/plain": [
              "<Figure size 640x480 with 1 Axes>"
            ],
            "image/png": "[encoded data removed]"
          },
          "metadata": {}
        }
      ]
    },
    {
      "cell_type": "code",
      "source": [
        "discriminator = keras.Sequential(\n",
        "    [\n",
        "        keras.Input(shape=(64, 64, 3)),\n",
        "        layers.Conv2D(64, kernel_size=4, strides=2, padding=\"same\"),\n",
        "        layers.LeakyReLU(alpha=0.2),\n",
        "        layers.Conv2D(128, kernel_size=4, strides=2, padding=\"same\"),\n",
        "        layers.LeakyReLU(alpha=0.2),\n",
        "        layers.Conv2D(128, kernel_size=4, strides=2, padding=\"same\"),\n",
        "        layers.LeakyReLU(alpha=0.2),\n",
        "        layers.Flatten(),\n",
        "        layers.Dropout(0.2),\n",
        "        layers.Dense(1, activation=\"sigmoid\"),\n",
        "    ],\n",
        "    name=\"discriminator\",\n",
        ")\n",
        "discriminator.summary()"
      ],
      "metadata": {
        "colab": {
          "base_uri": "https://localhost:8080/"
        },
        "id": "lP9xadRhei35",
        "outputId": "4bbe8098-2ced-42fa-a02d-c24ba34e5dd1"
      },
      "execution_count": 50,
      "outputs": [
        {
          "output_type": "stream",
          "name": "stdout",
          "text": [
            "Model: \"discriminator\"\n",
            "_________________________________________________________________\n",
            " Layer (type)                Output Shape              Param #   \n",
            "=================================================================\n",
            " conv2d (Conv2D)             (None, 32, 32, 64)        3136      \n",
            "                                                                 \n",
            " leaky_re_lu (LeakyReLU)     (None, 32, 32, 64)        0         \n",
            "                                                                 \n",
            " conv2d_1 (Conv2D)           (None, 16, 16, 128)       131200    \n",
            "                                                                 \n",
            " leaky_re_lu_1 (LeakyReLU)   (None, 16, 16, 128)       0         \n",
            "                                                                 \n",
            " conv2d_2 (Conv2D)           (None, 8, 8, 128)         262272    \n",
            "                                                                 \n",
            " leaky_re_lu_2 (LeakyReLU)   (None, 8, 8, 128)         0         \n",
            "                                                                 \n",
            " flatten (Flatten)           (None, 8192)              0         \n",
            "                                                                 \n",
            " dropout (Dropout)           (None, 8192)              0         \n",
            "                                                                 \n",
            " dense (Dense)               (None, 1)                 8193      \n",
            "                                                                 \n",
            "=================================================================\n",
            "Total params: 404801 (1.54 MB)\n",
            "Trainable params: 404801 (1.54 MB)\n",
            "Non-trainable params: 0 (0.00 Byte)\n",
            "_________________________________________________________________\n"
          ]
        }
      ]
    },
    {
      "cell_type": "code",
      "source": [
        "latent_dim = 128\n",
        "\n",
        "generator = keras.Sequential(\n",
        "    [\n",
        "        keras.Input(shape=(latent_dim,)),\n",
        "        layers.Dense(8 * 8 * 128),\n",
        "        layers.Reshape((8, 8, 128)),\n",
        "        layers.Conv2DTranspose(128, kernel_size=4, strides=2, padding=\"same\"),\n",
        "        layers.LeakyReLU(alpha=0.2),\n",
        "        layers.Conv2DTranspose(256, kernel_size=4, strides=2, padding=\"same\"),\n",
        "        layers.LeakyReLU(alpha=0.2),\n",
        "        layers.Conv2DTranspose(512, kernel_size=4, strides=2, padding=\"same\"),\n",
        "        layers.LeakyReLU(alpha=0.2),\n",
        "        layers.Conv2D(3, kernel_size=5, padding=\"same\", activation=\"sigmoid\"),\n",
        "    ],\n",
        "    name=\"generator\",\n",
        ")\n",
        "generator.summary()"
      ],
      "metadata": {
        "colab": {
          "base_uri": "https://localhost:8080/"
        },
        "id": "xdZKwLBWemqo",
        "outputId": "9f84e84f-e4ac-4bc3-e96f-5485d4d9efc0"
      },
      "execution_count": 51,
      "outputs": [
        {
          "output_type": "stream",
          "name": "stdout",
          "text": [
            "Model: \"generator\"\n",
            "_________________________________________________________________\n",
            " Layer (type)                Output Shape              Param #   \n",
            "=================================================================\n",
            " dense_1 (Dense)             (None, 8192)              1056768   \n",
            "                                                                 \n",
            " reshape (Reshape)           (None, 8, 8, 128)         0         \n",
            "                                                                 \n",
            " conv2d_transpose (Conv2DTr  (None, 16, 16, 128)       262272    \n",
            " anspose)                                                        \n",
            "                                                                 \n",
            " leaky_re_lu_3 (LeakyReLU)   (None, 16, 16, 128)       0         \n",
            "                                                                 \n",
            " conv2d_transpose_1 (Conv2D  (None, 32, 32, 256)       524544    \n",
            " Transpose)                                                      \n",
            "                                                                 \n",
            " leaky_re_lu_4 (LeakyReLU)   (None, 32, 32, 256)       0         \n",
            "                                                                 \n",
            " conv2d_transpose_2 (Conv2D  (None, 64, 64, 512)       2097664   \n",
            " Transpose)                                                      \n",
            "                                                                 \n",
            " leaky_re_lu_5 (LeakyReLU)   (None, 64, 64, 512)       0         \n",
            "                                                                 \n",
            " conv2d_3 (Conv2D)           (None, 64, 64, 3)         38403     \n",
            "                                                                 \n",
            "=================================================================\n",
            "Total params: 3979651 (15.18 MB)\n",
            "Trainable params: 3979651 (15.18 MB)\n",
            "Non-trainable params: 0 (0.00 Byte)\n",
            "_________________________________________________________________\n"
          ]
        }
      ]
    },
    {
      "cell_type": "code",
      "source": [
        "class GAN(keras.Model):\n",
        "    def __init__(self, discriminator, generator, latent_dim):\n",
        "        super().__init__()\n",
        "        self.discriminator = discriminator\n",
        "        self.generator = generator\n",
        "        self.latent_dim = latent_dim\n",
        "\n",
        "    def compile(self, d_optimizer, g_optimizer, loss_fn):\n",
        "        super().compile()\n",
        "        self.d_optimizer = d_optimizer\n",
        "        self.g_optimizer = g_optimizer\n",
        "        self.loss_fn = loss_fn\n",
        "        self.d_loss_metric = keras.metrics.Mean(name=\"d_loss\")\n",
        "        self.g_loss_metric = keras.metrics.Mean(name=\"g_loss\")\n",
        "\n",
        "    @property\n",
        "    def metrics(self):\n",
        "        return [self.d_loss_metric, self.g_loss_metric]\n",
        "\n",
        "    def train_step(self, real_images):\n",
        "        # Sample random points in the latent space\n",
        "        batch_size = tf.shape(real_images)[0]\n",
        "        random_latent_vectors = tf.random.normal(shape=(batch_size, self.latent_dim))\n",
        "\n",
        "        # Decode them to fake images\n",
        "        generated_images = self.generator(random_latent_vectors)\n",
        "\n",
        "        # Combine them with real images\n",
        "        combined_images = tf.concat([generated_images, real_images], axis=0)\n",
        "\n",
        "        # Assemble labels discriminating real from fake images\n",
        "        labels = tf.concat(\n",
        "            [tf.ones((batch_size, 1)), tf.zeros((batch_size, 1))], axis=0\n",
        "        )\n",
        "        # Add random noise to the labels - important trick!\n",
        "        labels += 0.05 * tf.random.uniform(tf.shape(labels))\n",
        "\n",
        "        # Train the discriminator\n",
        "        with tf.GradientTape() as tape:\n",
        "            predictions = self.discriminator(combined_images)\n",
        "            d_loss = self.loss_fn(labels, predictions)\n",
        "        grads = tape.gradient(d_loss, self.discriminator.trainable_weights)\n",
        "        self.d_optimizer.apply_gradients(\n",
        "            zip(grads, self.discriminator.trainable_weights)\n",
        "        )\n",
        "\n",
        "        # Sample random points in the latent space\n",
        "        random_latent_vectors = tf.random.normal(shape=(batch_size, self.latent_dim))\n",
        "\n",
        "        # Assemble labels that say \"all real images\"\n",
        "        misleading_labels = tf.zeros((batch_size, 1))\n",
        "\n",
        "        # Train the generator (note that we should *not* update the weights\n",
        "        # of the discriminator)!\n",
        "        with tf.GradientTape() as tape:\n",
        "            predictions = self.discriminator(self.generator(random_latent_vectors))\n",
        "            g_loss = self.loss_fn(misleading_labels, predictions)\n",
        "        grads = tape.gradient(g_loss, self.generator.trainable_weights)\n",
        "        self.g_optimizer.apply_gradients(zip(grads, self.generator.trainable_weights))\n",
        "\n",
        "        # Update metrics\n",
        "        self.d_loss_metric.update_state(d_loss)\n",
        "        self.g_loss_metric.update_state(g_loss)\n",
        "        return {\n",
        "            \"d_loss\": self.d_loss_metric.result(),\n",
        "            \"g_loss\": self.g_loss_metric.result(),\n",
        "        }"
      ],
      "metadata": {
        "id": "Ok0d5DckeqTx"
      },
      "execution_count": 52,
      "outputs": []
    },
    {
      "cell_type": "code",
      "source": [
        "class GANMonitor(keras.callbacks.Callback):\n",
        "    def __init__(self, num_img=3, latent_dim=128):\n",
        "        self.num_img = num_img\n",
        "        self.latent_dim = latent_dim\n",
        "\n",
        "    def on_epoch_end(self, epoch, logs=None):\n",
        "        random_latent_vectors = tf.random.normal(shape=(self.num_img, self.latent_dim))\n",
        "        generated_images = self.model.generator(random_latent_vectors)\n",
        "        generated_images *= 255\n",
        "        generated_images.numpy()\n",
        "        for i in range(self.num_img):\n",
        "            img = keras.utils.array_to_img(generated_images[i])\n",
        "            img.save(\"generated_img_%03d_%d.png\" % (epoch, i))"
      ],
      "metadata": {
        "id": "etEgSbFgeu9h"
      },
      "execution_count": 53,
      "outputs": []
    },
    {
      "cell_type": "code",
      "source": [
        "epochs = 5  # In practice, use ~100 epochs\n",
        "\n",
        "gan = GAN(discriminator=discriminator, generator=generator, latent_dim=latent_dim)\n",
        "gan.compile(\n",
        "    d_optimizer=keras.optimizers.Adam(learning_rate=0.0001),\n",
        "    g_optimizer=keras.optimizers.Adam(learning_rate=0.0001),\n",
        "    loss_fn=keras.losses.BinaryCrossentropy(),\n",
        ")\n",
        "\n",
        "gan.fit(\n",
        "    dataset, epochs=epochs, callbacks=[GANMonitor(num_img=10, latent_dim=latent_dim)]\n",
        ")"
      ],
      "metadata": {
        "colab": {
          "base_uri": "https://localhost:8080/"
        },
        "id": "mxCfrVw1ex0R",
        "outputId": "76119f19-bcbe-4be8-9328-e2a830dc9f73"
      },
      "execution_count": 66,
      "outputs": [
        {
          "output_type": "stream",
          "name": "stdout",
          "text": [
            "Epoch 1/5\n",
            "13/13 [==============================] - 421s 30s/step - d_loss: 0.6164 - g_loss: 1.0244\n",
            "Epoch 2/5\n",
            "13/13 [==============================] - 356s 27s/step - d_loss: 0.2943 - g_loss: 1.7101\n",
            "Epoch 3/5\n",
            "13/13 [==============================] - 356s 27s/step - d_loss: 0.2223 - g_loss: 2.3573\n",
            "Epoch 4/5\n",
            "13/13 [==============================] - 344s 26s/step - d_loss: 0.5941 - g_loss: 1.6035\n",
            "Epoch 5/5\n",
            "13/13 [==============================] - 346s 26s/step - d_loss: 0.5722 - g_loss: 1.4974\n"
          ]
        },
        {
          "output_type": "execute_result",
          "data": {
            "text/plain": [
              "<keras.src.callbacks.History at 0x7d5b5d4ece80>"
            ]
          },
          "metadata": {},
          "execution_count": 66
        }
      ]
    },
    {
      "cell_type": "code",
      "source": [
        "import cv2 as cv\n",
        "from google.colab.patches import cv2_imshow\n",
        "print(\"For 5 epoch\")\n",
        "bus = cv.imread('/content/generated_img_004_0.png')\n",
        "bus1 = cv.imread('/content/generated_img_004_4.png')\n",
        "bus5 = cv.imread('/content/generated_img_004_7.png')\n",
        "bus6 = cv.imread('/content/generated_img_004_9.png')\n",
        "cv2_imshow(bus)\n",
        "cv2_imshow(bus5)\n",
        "cv2_imshow(bus6)\n",
        "print(\"For 10 epoch\")\n",
        "bus = cv.imread('/content/generated_img_009_0.png')\n",
        "bus1 = cv.imread('/content/generated_img_009_4.png')\n",
        "bus5 = cv.imread('/content/generated_img_009_7.png')\n",
        "bus6 = cv.imread('/content/generated_img_009_9.png')\n",
        "cv2_imshow(bus)\n",
        "cv2_imshow(bus5)\n",
        "cv2_imshow(bus6)\n"
      ],
      "metadata": {
        "colab": {
          "base_uri": "https://localhost:8080/",
          "height": 436
        },
        "id": "Zu7yiiCbgqd5",
        "outputId": "fc7c6e6c-e150-46d8-adda-ae569ff0867f"
      },
      "execution_count": 68,
      "outputs": [
        {
          "output_type": "stream",
          "name": "stdout",
          "text": [
            "For 5 epoch\n"
          ]
        },
        {
          "output_type": "display_data",
          "data": {
            "text/plain": [
              "<PIL.Image.Image image mode=RGB size=64x64>"
            ],
            "image/png": "[encoded data removed]"
          },
          "metadata": {}
        },
        {
          "output_type": "display_data",
          "data": {
            "text/plain": [
              "<PIL.Image.Image image mode=RGB size=64x64>"
            ],
            "image/png": "[encoded data removed]"
          },
          "metadata": {}
        },
        {
          "output_type": "display_data",
          "data": {
            "text/plain": [
              "<PIL.Image.Image image mode=RGB size=64x64>"
            ],
            "image/png": "[encoded data removed]"
          },
          "metadata": {}
        },
        {
          "output_type": "stream",
          "name": "stdout",
          "text": [
            "For 10 epoch\n"
          ]
        },
        {
          "output_type": "display_data",
          "data": {
            "text/plain": [
              "<PIL.Image.Image image mode=RGB size=64x64>"
            ],
            "image/png": "[encoded data removed]"
          },
          "metadata": {}
        },
        {
          "output_type": "display_data",
          "data": {
            "text/plain": [
              "<PIL.Image.Image image mode=RGB size=64x64>"
            ],
            "image/png": "[encoded data removed]"
          },
          "metadata": {}
        },
        {
          "output_type": "display_data",
          "data": {
            "text/plain": [
              "<PIL.Image.Image image mode=RGB size=64x64>"
            ],
            "image/png": "[encoded data removed]"
          },
          "metadata": {}
        }
      ]
    }
  ]
}